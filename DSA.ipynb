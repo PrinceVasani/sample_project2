{
 "cells": [
  {
   "cell_type": "code",
   "execution_count": 2,
   "id": "575c4a97",
   "metadata": {},
   "outputs": [
    {
     "data": {
      "text/plain": [
       "(1, 2, 3, 4, 2, 5, 4, 3, 6, 1, 9, 6)"
      ]
     },
     "execution_count": 2,
     "metadata": {},
     "output_type": "execute_result"
    }
   ],
   "source": [
    "# Tiple can be immutable list \n",
    "# immutable means you can not change or add data into tuple\n",
    "tuple_item=(1,2,3,4,2,5,4,3,6,1,9,6,)\n",
    "tuple_item"
   ]
  },
  {
   "cell_type": "code",
   "execution_count": 3,
   "id": "5b24f64e",
   "metadata": {},
   "outputs": [
    {
     "data": {
      "text/plain": [
       "{1, 2, 3, 4, 5, 6}"
      ]
     },
     "execution_count": 3,
     "metadata": {},
     "output_type": "execute_result"
    }
   ],
   "source": [
    "# In a set all values are must be unique\n",
    "\n",
    "first_set={1,2,3,4,4,5,6,6}\n",
    "first_set"
   ]
  },
  {
   "cell_type": "code",
   "execution_count": 4,
   "id": "419e9fbe",
   "metadata": {},
   "outputs": [
    {
     "ename": "NameError",
     "evalue": "name 'prince' is not defined",
     "output_type": "error",
     "traceback": [
      "\u001b[1;31m---------------------------------------------------------------------------\u001b[0m",
      "\u001b[1;31mNameError\u001b[0m                                 Traceback (most recent call last)",
      "Cell \u001b[1;32mIn [4], line 1\u001b[0m\n\u001b[1;32m----> 1\u001b[0m \u001b[38;5;28mdict\u001b[39m\u001b[38;5;241m=\u001b[39m{\u001b[38;5;124m\"\u001b[39m\u001b[38;5;124mvasani\u001b[39m\u001b[38;5;124m\"\u001b[39m : \u001b[43mprince\u001b[49m, \u001b[38;5;124m\"\u001b[39m\u001b[38;5;124mmango\u001b[39m\u001b[38;5;124m\"\u001b[39m: \u001b[38;5;241m45\u001b[39m, \u001b[38;5;124m\"\u001b[39m\u001b[38;5;124mbanana\u001b[39m\u001b[38;5;124m\"\u001b[39m : \u001b[38;5;241m65\u001b[39m}\n",
      "\u001b[1;31mNameError\u001b[0m: name 'prince' is not defined"
     ]
    }
   ],
   "source": [
    "dict={\"vasani\" : prince, \"mango\": 45, \"banana\" : 65}\n"
   ]
  },
  {
   "cell_type": "code",
   "execution_count": 1,
   "id": "e83189df",
   "metadata": {},
   "outputs": [
    {
     "data": {
      "text/plain": [
       "{1, 3.78, 'a'}"
      ]
     },
     "execution_count": 1,
     "metadata": {},
     "output_type": "execute_result"
    }
   ],
   "source": [
    "s1={1, \"a\", 3.78}\n",
    "s1"
   ]
  },
  {
   "cell_type": "code",
   "execution_count": 3,
   "id": "3ba1b957",
   "metadata": {},
   "outputs": [
    {
     "data": {
      "text/plain": [
       "{1, 3.78, 'Hello world', 'a'}"
      ]
     },
     "execution_count": 3,
     "metadata": {},
     "output_type": "execute_result"
    }
   ],
   "source": [
    "s1.add(\"Hello world\")\n",
    "s1"
   ]
  },
  {
   "cell_type": "code",
   "execution_count": 4,
   "id": "1622e5cf",
   "metadata": {},
   "outputs": [
    {
     "data": {
      "text/plain": [
       "{(9+5j), 1, 3.78, 45, 'Hello world', 'Vasani', 'a'}"
      ]
     },
     "execution_count": 4,
     "metadata": {},
     "output_type": "execute_result"
    }
   ],
   "source": [
    "s1.update([\"Vasani\", 45, (9+5j)])\n",
    "s1"
   ]
  },
  {
   "cell_type": "markdown",
   "id": "2ce5310c",
   "metadata": {},
   "source": [
    "## Linear Datastructure\n",
    "\n",
    "## 1.Array\n",
    "\n",
    "\n",
    "\n",
    "\n",
    "\n",
    "\n"
   ]
  },
  {
   "cell_type": "code",
   "execution_count": 11,
   "id": "49d5d9f5",
   "metadata": {},
   "outputs": [
    {
     "name": "stdout",
     "output_type": "stream",
     "text": [
      "How many element to store inside the array4\n",
      "\n",
      "Enter 4 Element\n",
      "5\n",
      "2\n",
      "1\n",
      "4\n",
      "\n",
      "The array elements are\n",
      "5 2 1 4 "
     ]
    }
   ],
   "source": [
    "# One dimentional array\n",
    "\n",
    "print(\"How many element to store inside the array\", end=\"\")\n",
    "num=int(input())\n",
    "arr=[]\n",
    "print(\"\\nEnter\", num , \"Element\",end=\"\\n\")\n",
    "for i in range(num):\n",
    "    element=input()\n",
    "    arr.append(element)\n",
    "print(\"\\nThe array elements are\")\n",
    "for i in range(num):\n",
    "    print(arr[i],end=\" \")\n"
   ]
  },
  {
   "cell_type": "code",
   "execution_count": 19,
   "id": "62a6fafa",
   "metadata": {},
   "outputs": [
    {
     "name": "stdout",
     "output_type": "stream",
     "text": [
      "Input number of rows: 2\n",
      "Input number of columns: 3\n",
      "[[0, 0, 0], [0, 1, 2]]\n"
     ]
    }
   ],
   "source": [
    "# Two Dimentional array\n",
    "\n",
    "r_num=int(input(\"Input number of rows: \"))\n",
    "c_num=int(input(\"Input number of columns: \"))\n",
    "twod_arr=[[0 for col in range(c_num)] for row in range(r_num)]\n",
    "\n",
    "for row in range(r_num):\n",
    "    for col in range(c_num):\n",
    "        twod_arr[row][col]=row*col\n",
    "print(twod_arr)        \n",
    "        \n",
    "                "
   ]
  },
  {
   "cell_type": "code",
   "execution_count": 24,
   "id": "6afbd5fa",
   "metadata": {},
   "outputs": [
    {
     "name": "stdout",
     "output_type": "stream",
     "text": [
      "Enter the size of Array\n",
      "4\n",
      "Enter 4 Elements\n",
      "25\n",
      "56\n",
      "48\n",
      "54\n",
      "\n",
      "Enter the value to delete\n",
      "56\n",
      "\n",
      "The New Array is:\n",
      "25 48 54 "
     ]
    }
   ],
   "source": [
    "# search and delete element in array\n",
    "print(\"Enter the size of Array\")\n",
    "tot=int(input())\n",
    "arr=[]\n",
    "print(\"Enter\", tot , \"Elements\", end=\"\\n\")\n",
    "for i in range(tot):\n",
    "    arr.append(int(input()))\n",
    "print(\"\\nEnter the value to delete\")\n",
    "val=int(input())\n",
    "if val in arr:\n",
    "    arr.remove(val)\n",
    "    print(\"\\nThe New Array is:\")\n",
    "    for i in range(tot-1):\n",
    "        print(arr[i], end=\" \")\n",
    "else:\n",
    "    print(\"\\nElement doesn't exist in the list\")"
   ]
  },
  {
   "cell_type": "code",
   "execution_count": 26,
   "id": "26555347",
   "metadata": {},
   "outputs": [
    {
     "name": "stdout",
     "output_type": "stream",
     "text": [
      "Element of original array\n",
      "10 55 87 54 6 9 45 \n",
      "Elements of array sorted in ascending order\n",
      "6 9 10 45 54 55 87 "
     ]
    }
   ],
   "source": [
    "# Sorting in array\n",
    "arr=[10,55,87,54,6,9,45]\n",
    "temp=0\n",
    "print(\"Element of original array\")\n",
    "for i in range(0, len(arr)):\n",
    "    print(arr[i], end=\" \")\n",
    "#Sort the array\n",
    "for i in range(0, len(arr)):\n",
    "    for j in range(i+1, len(arr)):\n",
    "        if(arr[i]>arr[j]):\n",
    "            temp=arr[i]\n",
    "            arr[i]=arr[j]\n",
    "            arr[j]=temp\n",
    "print()\n",
    "\n",
    "print(\"Elements of array sorted in ascending order\")\n",
    "for i in range(0, len(arr)):\n",
    "    print(arr[i], end=\" \")"
   ]
  },
  {
   "cell_type": "markdown",
   "id": "1cd48f37",
   "metadata": {},
   "source": [
    "# Stack"
   ]
  },
  {
   "cell_type": "code",
   "execution_count": 1,
   "id": "ccf66ea7",
   "metadata": {},
   "outputs": [
    {
     "name": "stdout",
     "output_type": "stream",
     "text": [
      "abc\n"
     ]
    }
   ],
   "source": [
    "# Implementation using list  # Time complexity is O(n)\n",
    "stack=[]\n",
    "stack.append(\"abc\")\n",
    "print(stack.pop())"
   ]
  },
  {
   "cell_type": "code",
   "execution_count": 5,
   "id": "6737fbbf",
   "metadata": {},
   "outputs": [
    {
     "name": "stdout",
     "output_type": "stream",
     "text": [
      "deque(['x'])\n",
      "deque(['x', 'y'])\n",
      "y\n"
     ]
    }
   ],
   "source": [
    " # Implementation using collection deque  ## Time complexity is O(1)\n",
    "from collections import deque\n",
    "stack=deque()\n",
    "stack.append(\"x\")\n",
    "print(stack)\n",
    "stack.append(\"y\")\n",
    "print(stack)\n",
    "print(stack.pop())"
   ]
  },
  {
   "cell_type": "code",
   "execution_count": 12,
   "id": "ffa40a51",
   "metadata": {},
   "outputs": [
    {
     "name": "stdout",
     "output_type": "stream",
     "text": [
      "3\n",
      "True\n"
     ]
    }
   ],
   "source": [
    "# Implementation using queue\n",
    "from queue import LifoQueue\n",
    "stack=LifoQueue(maxsize=3)\n",
    "stack.put(4)\n",
    "stack.put(5)\n",
    "stack.put(6)\n",
    "print(stack.qsize())\n",
    "#print(stack.get())\n",
    "print(stack.full())\n",
    "          \n"
   ]
  },
  {
   "cell_type": "markdown",
   "id": "53db3a5c",
   "metadata": {},
   "source": [
    "# Queue"
   ]
  },
  {
   "cell_type": "code",
   "execution_count": 13,
   "id": "c776b80d",
   "metadata": {},
   "outputs": [
    {
     "name": "stdout",
     "output_type": "stream",
     "text": [
      "[1, 2, 3, 4, 5]\n",
      "After removing an element\n",
      "[2, 3, 4, 5]\n"
     ]
    }
   ],
   "source": [
    "class Queue:\n",
    "    def __init__(self):\n",
    "        self.queue=[]\n",
    "    def enqueue(self, item):\n",
    "        self.queue.append(item)\n",
    "    def dequeue(self):\n",
    "        if len(self.queue) <1:\n",
    "            return None\n",
    "        return self.queue.pop(0)\n",
    "    def display(self):\n",
    "        print(self.queue)\n",
    "        \n",
    "    def size(self):\n",
    "        return len(self.queue)\n",
    "    \n",
    "q=Queue()\n",
    "q.enqueue(1)\n",
    "q.enqueue(2)\n",
    "q.enqueue(3)\n",
    "q.enqueue(4)\n",
    "q.enqueue(5)\n",
    "q.display()\n",
    "q.dequeue()\n",
    "print(\"After removing an element\")\n",
    "q.display()\n",
    "        \n"
   ]
  },
  {
   "cell_type": "code",
   "execution_count": null,
   "id": "8c42fa58",
   "metadata": {},
   "outputs": [],
   "source": [
    "class MyCircularQueue():\n",
    "    def __init__(self,k):\n",
    "        self.k=k\n",
    "        self."
   ]
  }
 ],
 "metadata": {
  "kernelspec": {
   "display_name": "Python 3 (ipykernel)",
   "language": "python",
   "name": "python3"
  },
  "language_info": {
   "codemirror_mode": {
    "name": "ipython",
    "version": 3
   },
   "file_extension": ".py",
   "mimetype": "text/x-python",
   "name": "python",
   "nbconvert_exporter": "python",
   "pygments_lexer": "ipython3",
   "version": "3.10.6"
  }
 },
 "nbformat": 4,
 "nbformat_minor": 5
}
